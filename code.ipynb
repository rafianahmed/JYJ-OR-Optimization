{
  "nbformat": 4,
  "nbformat_minor": 0,
  "metadata": {
    "colab": {
      "provenance": []
    },
    "kernelspec": {
      "name": "python3",
      "display_name": "Python 3"
    },
    "language_info": {
      "name": "python"
    }
  },
  "cells": [
    {
      "cell_type": "code",
      "execution_count": 1,
      "metadata": {
        "colab": {
          "base_uri": "https://localhost:8080/"
        },
        "id": "nZf0w7aIi-e3",
        "outputId": "84779fb2-2f7e-4d35-f53d-18195f8f8128"
      },
      "outputs": [
        {
          "output_type": "stream",
          "name": "stdout",
          "text": [
            "Collecting ortools\n",
            "  Downloading ortools-9.10.4067-cp310-cp310-manylinux_2_17_x86_64.manylinux2014_x86_64.whl (26.7 MB)\n",
            "\u001b[2K     \u001b[90m━━━━━━━━━━━━━━━━━━━━━━━━━━━━━━━━━━━━━━━━\u001b[0m \u001b[32m26.7/26.7 MB\u001b[0m \u001b[31m34.0 MB/s\u001b[0m eta \u001b[36m0:00:00\u001b[0m\n",
            "\u001b[?25hCollecting absl-py>=2.0.0 (from ortools)\n",
            "  Downloading absl_py-2.1.0-py3-none-any.whl (133 kB)\n",
            "\u001b[2K     \u001b[90m━━━━━━━━━━━━━━━━━━━━━━━━━━━━━━━━━━━━━━━━\u001b[0m \u001b[32m133.7/133.7 kB\u001b[0m \u001b[31m9.2 MB/s\u001b[0m eta \u001b[36m0:00:00\u001b[0m\n",
            "\u001b[?25hRequirement already satisfied: numpy>=1.13.3 in /usr/local/lib/python3.10/dist-packages (from ortools) (1.25.2)\n",
            "Requirement already satisfied: pandas>=2.0.0 in /usr/local/lib/python3.10/dist-packages (from ortools) (2.0.3)\n",
            "Collecting protobuf>=5.26.1 (from ortools)\n",
            "  Downloading protobuf-5.26.1-cp37-abi3-manylinux2014_x86_64.whl (302 kB)\n",
            "\u001b[2K     \u001b[90m━━━━━━━━━━━━━━━━━━━━━━━━━━━━━━━━━━━━━━━━\u001b[0m \u001b[32m302.8/302.8 kB\u001b[0m \u001b[31m8.7 MB/s\u001b[0m eta \u001b[36m0:00:00\u001b[0m\n",
            "\u001b[?25hCollecting immutabledict>=3.0.0 (from ortools)\n",
            "  Downloading immutabledict-4.2.0-py3-none-any.whl (4.7 kB)\n",
            "Requirement already satisfied: python-dateutil>=2.8.2 in /usr/local/lib/python3.10/dist-packages (from pandas>=2.0.0->ortools) (2.8.2)\n",
            "Requirement already satisfied: pytz>=2020.1 in /usr/local/lib/python3.10/dist-packages (from pandas>=2.0.0->ortools) (2023.4)\n",
            "Requirement already satisfied: tzdata>=2022.1 in /usr/local/lib/python3.10/dist-packages (from pandas>=2.0.0->ortools) (2024.1)\n",
            "Requirement already satisfied: six>=1.5 in /usr/local/lib/python3.10/dist-packages (from python-dateutil>=2.8.2->pandas>=2.0.0->ortools) (1.16.0)\n",
            "Installing collected packages: protobuf, immutabledict, absl-py, ortools\n",
            "  Attempting uninstall: protobuf\n",
            "    Found existing installation: protobuf 3.20.3\n",
            "    Uninstalling protobuf-3.20.3:\n",
            "      Successfully uninstalled protobuf-3.20.3\n",
            "  Attempting uninstall: absl-py\n",
            "    Found existing installation: absl-py 1.4.0\n",
            "    Uninstalling absl-py-1.4.0:\n",
            "      Successfully uninstalled absl-py-1.4.0\n",
            "\u001b[31mERROR: pip's dependency resolver does not currently take into account all the packages that are installed. This behaviour is the source of the following dependency conflicts.\n",
            "cudf-cu12 24.4.1 requires protobuf<5,>=3.20, but you have protobuf 5.26.1 which is incompatible.\n",
            "google-ai-generativelanguage 0.6.2 requires protobuf!=3.20.0,!=3.20.1,!=4.21.0,!=4.21.1,!=4.21.2,!=4.21.3,!=4.21.4,!=4.21.5,<5.0.0dev,>=3.19.5, but you have protobuf 5.26.1 which is incompatible.\n",
            "google-api-core 2.11.1 requires protobuf!=3.20.0,!=3.20.1,!=4.21.0,!=4.21.1,!=4.21.2,!=4.21.3,!=4.21.4,!=4.21.5,<5.0.0.dev0,>=3.19.5, but you have protobuf 5.26.1 which is incompatible.\n",
            "google-cloud-aiplatform 1.48.0 requires protobuf!=3.20.0,!=3.20.1,!=4.21.0,!=4.21.1,!=4.21.2,!=4.21.3,!=4.21.4,!=4.21.5,<5.0.0dev,>=3.19.5, but you have protobuf 5.26.1 which is incompatible.\n",
            "google-cloud-bigquery-connection 1.12.1 requires protobuf!=3.20.0,!=3.20.1,!=4.21.0,!=4.21.1,!=4.21.2,!=4.21.3,!=4.21.4,!=4.21.5,<5.0.0dev,>=3.19.5, but you have protobuf 5.26.1 which is incompatible.\n",
            "google-cloud-bigquery-storage 2.25.0 requires protobuf!=3.20.0,!=3.20.1,!=4.21.0,!=4.21.1,!=4.21.2,!=4.21.3,!=4.21.4,!=4.21.5,<5.0.0dev,>=3.19.5, but you have protobuf 5.26.1 which is incompatible.\n",
            "google-cloud-datastore 2.15.2 requires protobuf!=3.20.0,!=3.20.1,!=4.21.0,!=4.21.1,!=4.21.2,!=4.21.3,!=4.21.4,!=4.21.5,<5.0.0dev,>=3.19.5, but you have protobuf 5.26.1 which is incompatible.\n",
            "google-cloud-firestore 2.11.1 requires protobuf!=3.20.0,!=3.20.1,!=4.21.0,!=4.21.1,!=4.21.2,!=4.21.3,!=4.21.4,!=4.21.5,<5.0.0dev,>=3.19.5, but you have protobuf 5.26.1 which is incompatible.\n",
            "google-cloud-functions 1.13.3 requires protobuf!=3.20.0,!=3.20.1,!=4.21.0,!=4.21.1,!=4.21.2,!=4.21.3,!=4.21.4,!=4.21.5,<5.0.0dev,>=3.19.5, but you have protobuf 5.26.1 which is incompatible.\n",
            "google-cloud-iam 2.15.0 requires protobuf!=3.20.0,!=3.20.1,!=4.21.0,!=4.21.1,!=4.21.2,!=4.21.3,!=4.21.4,!=4.21.5,<5.0.0dev,>=3.19.5, but you have protobuf 5.26.1 which is incompatible.\n",
            "google-cloud-language 2.13.3 requires protobuf!=3.20.0,!=3.20.1,!=4.21.0,!=4.21.1,!=4.21.2,!=4.21.3,!=4.21.4,!=4.21.5,<5.0.0dev,>=3.19.5, but you have protobuf 5.26.1 which is incompatible.\n",
            "google-cloud-resource-manager 1.12.3 requires protobuf!=3.20.0,!=3.20.1,!=4.21.0,!=4.21.1,!=4.21.2,!=4.21.3,!=4.21.4,!=4.21.5,<5.0.0dev,>=3.19.5, but you have protobuf 5.26.1 which is incompatible.\n",
            "google-cloud-translate 3.11.3 requires protobuf!=3.20.0,!=3.20.1,!=4.21.0,!=4.21.1,!=4.21.2,!=4.21.3,!=4.21.4,!=4.21.5,<5.0.0dev,>=3.19.5, but you have protobuf 5.26.1 which is incompatible.\n",
            "googleapis-common-protos 1.63.0 requires protobuf!=3.20.0,!=3.20.1,!=4.21.1,!=4.21.2,!=4.21.3,!=4.21.4,!=4.21.5,<5.0.0.dev0,>=3.19.5, but you have protobuf 5.26.1 which is incompatible.\n",
            "grpc-google-iam-v1 0.13.0 requires protobuf!=3.20.0,!=3.20.1,!=4.21.1,!=4.21.2,!=4.21.3,!=4.21.4,!=4.21.5,<5.0.0dev,>=3.19.5, but you have protobuf 5.26.1 which is incompatible.\n",
            "proto-plus 1.23.0 requires protobuf<5.0.0dev,>=3.19.0, but you have protobuf 5.26.1 which is incompatible.\n",
            "tensorflow 2.15.0 requires protobuf!=4.21.0,!=4.21.1,!=4.21.2,!=4.21.3,!=4.21.4,!=4.21.5,<5.0.0dev,>=3.20.3, but you have protobuf 5.26.1 which is incompatible.\n",
            "tensorflow-metadata 1.15.0 requires protobuf<4.21,>=3.20.3; python_version < \"3.11\", but you have protobuf 5.26.1 which is incompatible.\u001b[0m\u001b[31m\n",
            "\u001b[0mSuccessfully installed absl-py-2.1.0 immutabledict-4.2.0 ortools-9.10.4067 protobuf-5.26.1\n"
          ]
        }
      ],
      "source": [
        "!pip install ortools"
      ]
    },
    {
      "cell_type": "code",
      "source": [
        "from ortools.linear_solver import pywraplp\n",
        "import math"
      ],
      "metadata": {
        "id": "6V8ECd59jLLD"
      },
      "execution_count": 2,
      "outputs": []
    },
    {
      "cell_type": "code",
      "source": [
        "# Create the ILP solver (SCIP)\n",
        "# Details: https://developers.google.com/optimization/mip/mip_example?hl=ko\n",
        "solver = pywraplp.Solver.CreateSolver(\"SAT\")\n",
        "if not solver:\n",
        "    raise ImportError"
      ],
      "metadata": {
        "id": "_5c0k-N_jMmi"
      },
      "execution_count": 3,
      "outputs": []
    },
    {
      "cell_type": "code",
      "source": [
        "# Create the decision variables.\n",
        "\n",
        "num_of_orders = {\"classic\": 100, \"bacon_cheese\": 220, \"chicken\": 60}\n",
        "\n",
        "sum_of_num_of_orders = sum(num_of_orders.values())\n",
        "\n",
        "grills = [\"A\", \"B\"]\n",
        "G = {}\n",
        "\n",
        "for grill in grills:\n",
        "  G[grill] = solver.IntVar(0.0, sum_of_num_of_orders, \"G_\"+grill)\n",
        "\n",
        "x = {}\n",
        "burgers_on_grill = [\"x2_classic_A\", \"x2_classic_B\", \"x2_bacon_cheese_A\", \"x2_bacon_cheese_B\", \"x3_bacon_cheese_A\", \"x3_bacon_cheese_B\", \"x3_chicken_A\", \"x3_chicken_B\"]\n",
        "\n",
        "for burger_on_grill in burgers_on_grill:\n",
        "  for type_of_burger in num_of_orders.keys():\n",
        "    if type_of_burger in burger_on_grill:\n",
        "      x[burger_on_grill] = solver.IntVar(0.0, num_of_orders[type_of_burger], burger_on_grill)"
      ],
      "metadata": {
        "id": "xMdUfZjEj5jR"
      },
      "execution_count": 4,
      "outputs": []
    },
    {
      "cell_type": "code",
      "source": [
        "# Create the contraints\n",
        "# Integer Linear Programming condition has been added from scratch.\n",
        "\n",
        "# contraints are not made in the form of dictionaries, since it highly depends\n",
        "# on the state of decision variables.\n",
        "\n",
        "# The Number Of Orders\n",
        "constraint_order_classic_2 = solver.Add(x[\"x2_classic_A\"] + x[\"x2_classic_B\"] == num_of_orders[\"classic\"])\n",
        "constraint_order_bacon_2 = solver.Add(x[\"x2_bacon_cheese_A\"] + x[\"x2_bacon_cheese_B\"] == num_of_orders[\"bacon_cheese\"])\n",
        "constraint_order_bacon_3 = solver.Add(x[\"x3_bacon_cheese_A\"] + x[\"x3_bacon_cheese_B\"] == num_of_orders[\"bacon_cheese\"])\n",
        "constraint_order_chicken_3 = solver.Add(x[\"x3_chicken_A\"] + x[\"x3_chicken_B\"] == num_of_orders[\"chicken\"])\n",
        "\n",
        "# The Availability of Grill B\n",
        "constraint_unavail_grill_B = solver.Add(x[\"x3_bacon_cheese_B\"] == 0)\n",
        "\n",
        "# Time Constraints\n",
        "constraint_time_grill_A = solver.Add(-720 * G[\"A\"] + 20 * x[\"x2_classic_A\"] + 15 * x[\"x2_bacon_cheese_A\"] + 13 * x[\"x3_bacon_cheese_A\"] + 17 * x[\"x3_chicken_A\"] <= 0)\n",
        "constraint_time_grill_B = solver.Add(-720 * G[\"B\"] + 10 * x[\"x2_classic_B\"] + 8 * x[\"x2_bacon_cheese_B\"] + 0 * x[\"x3_bacon_cheese_B\"] + 11 * x[\"x3_chicken_B\"] <= 0)"
      ],
      "metadata": {
        "id": "FMF5vZ1ElAd8"
      },
      "execution_count": 5,
      "outputs": []
    },
    {
      "cell_type": "code",
      "source": [
        "# Set the objective function\n",
        "unit_price_per_grill = {\"A\": 120, \"B\": 180}\n",
        "\n",
        "solver.Minimize(solver.Sum(unit_price_per_grill[grill] * G[grill] for grill in grills))"
      ],
      "metadata": {
        "id": "P3lEIyKrvfN0"
      },
      "execution_count": 6,
      "outputs": []
    },
    {
      "cell_type": "code",
      "source": [
        "# solve the model\n",
        "\n",
        "print(f'Solving with {solver.SolverVersion()}')\n",
        "status = solver.Solve()\n",
        "\n",
        "if status == pywraplp.Solver.OPTIMAL:\n",
        "  print(\"Solution:\")\n",
        "  print(\"Objective value =\", solver.Objective().Value())\n",
        "  for grill in grills:\n",
        "    print(f\"{grill} = {G[grill].solution_value()}\")\n",
        "  for burger_on_grill in burgers_on_grill:\n",
        "    print(f\"{burger_on_grill} = {x[burger_on_grill].solution_value()}\")\n",
        "else:\n",
        "    print(\"The problem does not have an optimal solution.\")"
      ],
      "metadata": {
        "colab": {
          "base_uri": "https://localhost:8080/"
        },
        "id": "vJPxauxVsXw5",
        "outputId": "8e94bd8d-66ac-4df6-ea91-63ba4221cfe0"
      },
      "execution_count": 9,
      "outputs": [
        {
          "output_type": "stream",
          "name": "stdout",
          "text": [
            "Solving with CP-SAT solver v9.10.4067\n",
            "Solution:\n",
            "Objective value = 1380.0\n",
            "A = 7.0\n",
            "B = 3.0\n",
            "x2_classic_A = 0.0\n",
            "x2_classic_B = 100.0\n",
            "x2_bacon_cheese_A = 77.0\n",
            "x2_bacon_cheese_B = 143.0\n",
            "x3_bacon_cheese_A = 220.0\n",
            "x3_bacon_cheese_B = 0.0\n",
            "x3_chicken_A = 60.0\n",
            "x3_chicken_B = 0.0\n"
          ]
        }
      ]
    }
  ]
}